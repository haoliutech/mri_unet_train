{
 "cells": [
  {
   "cell_type": "code",
   "execution_count": null,
   "id": "78decdc5",
   "metadata": {},
   "outputs": [],
   "source": [
    "import os\n",
    "import pandas as pd \n",
    "from pathlib import Path"
   ]
  },
  {
   "cell_type": "code",
   "execution_count": null,
   "id": "1ef6fb21",
   "metadata": {},
   "outputs": [],
   "source": [
    "cwd_path = Path('/home/apollo/code/mproj7205')\n",
    "os.chdir(cwd_path)"
   ]
  },
  {
   "cell_type": "code",
   "execution_count": null,
   "id": "c0423dcc",
   "metadata": {},
   "outputs": [],
   "source": [
    "from utils.run_utils import *\n",
    "from utils.report import *\n",
    "\n",
    "import seaborn as sns\n",
    "\n",
    "%load_ext autoreload\n",
    "%autoreload 2"
   ]
  },
  {
   "cell_type": "code",
   "execution_count": null,
   "id": "8afd4dc8",
   "metadata": {},
   "outputs": [],
   "source": [
    "order_of_patient_ids = [3115, 3570, 3551, 3151, 3804, 3605, 3588, 3113, 3191, \\\n",
    "                        4030, 3584, 3614, 3603, 3392, 3390,  3805, 3612, 3638,\\\n",
    "                        4037, 3126, 3374, 3571, 3589, 4010, 4032, 3621,3373, \\\n",
    "                        3765, 3300, 3812, 3102, 3564, 3385, 3556]\n",
    "\n",
    "patient_ids = order_of_patient_ids\n",
    "\n",
    "# create_images = False\n",
    "#load_from_file = True\n",
    "\n",
    "create_images = True\n",
    "load_from_file = False"
   ]
  },
  {
   "cell_type": "markdown",
   "id": "4fdb529c",
   "metadata": {},
   "source": [
    "#### Folder structure\n",
    "\n",
    "Inside report_results:\n",
    "\n",
    "```\n",
    "tex_from_python\n",
    "├── figs\n",
    "├── images\n",
    "├────────── 3300\n",
    "├─────────────── happy_sweep_1.png\n",
    "├─────────────── happy_sweep_1.tex\n",
    "├─────────────── T2_T1.png\n",
    "├─────────────── baseline.png\n",
    "├─────────────── baseline.tex\n",
    "├─────────────── T2.png\n",
    "└── tables\n",
    "```"
   ]
  },
  {
   "cell_type": "code",
   "execution_count": null,
   "id": "cc9545f8",
   "metadata": {},
   "outputs": [],
   "source": [
    "df = create_project_df(project_name='projectB')"
   ]
  },
  {
   "cell_type": "code",
   "execution_count": null,
   "id": "2afaffa3",
   "metadata": {},
   "outputs": [],
   "source": [
    "df_box = compute_metrics_by_df(df)"
   ]
  },
  {
   "cell_type": "code",
   "execution_count": null,
   "id": "7739bf3d",
   "metadata": {},
   "outputs": [],
   "source": [
    "df['augmentation'] = df['augmentation'].fillna(value=False)\n",
    "replace_dict = {False: 'No augmentation', True : 'Augmentation'}\n",
    "df['augmentation_'] = df['augmentation'].replace(replace_dict)"
   ]
  },
  {
   "cell_type": "code",
   "execution_count": null,
   "id": "03a92cc1",
   "metadata": {},
   "outputs": [],
   "source": [
    "df['network_name'].unique()"
   ]
  },
  {
   "cell_type": "code",
   "execution_count": null,
   "id": "36874166",
   "metadata": {},
   "outputs": [],
   "source": [
    "df['network_name_'].unique()"
   ]
  },
  {
   "cell_type": "code",
   "execution_count": null,
   "id": "bb230eb6",
   "metadata": {},
   "outputs": [],
   "source": [
    "df['loss_function'].unique()"
   ]
  },
  {
   "cell_type": "code",
   "execution_count": null,
   "id": "37c1d059",
   "metadata": {},
   "outputs": [],
   "source": [
    "df['augmentation'].unique()"
   ]
  },
  {
   "cell_type": "code",
   "execution_count": null,
   "id": "fe4bd119",
   "metadata": {},
   "outputs": [],
   "source": [
    "df['augmentation_'].unique()"
   ]
  },
  {
   "cell_type": "code",
   "execution_count": null,
   "id": "f71ca288",
   "metadata": {},
   "outputs": [],
   "source": [
    "df = df.drop_duplicates(subset=['network_name', 'loss_function', 'include_T1', 'augmentation'], keep='first').copy()"
   ]
  },
  {
   "cell_type": "code",
   "execution_count": null,
   "id": "0374a0c8",
   "metadata": {
    "scrolled": true
   },
   "outputs": [],
   "source": [
    "df[df['augmentation']==False].shape[0]"
   ]
  },
  {
   "cell_type": "code",
   "execution_count": null,
   "id": "04ae0521",
   "metadata": {
    "scrolled": true
   },
   "outputs": [],
   "source": [
    "df[df['augmentation']==True].shape[0]"
   ]
  },
  {
   "cell_type": "markdown",
   "id": "798ce442",
   "metadata": {},
   "source": [
    "## Sort by names and give index"
   ]
  },
  {
   "cell_type": "code",
   "execution_count": null,
   "id": "5b07053a",
   "metadata": {},
   "outputs": [],
   "source": [
    "df.columns"
   ]
  },
  {
   "cell_type": "code",
   "execution_count": null,
   "id": "95e39733",
   "metadata": {},
   "outputs": [],
   "source": [
    "df = df.sort_values(['network_name', 'loss_function', 'augmentation', 'include_T1'])"
   ]
  },
  {
   "cell_type": "code",
   "execution_count": null,
   "id": "80edecb2",
   "metadata": {},
   "outputs": [],
   "source": [
    "df.reset_index(inplace=True, drop=True)"
   ]
  },
  {
   "cell_type": "code",
   "execution_count": null,
   "id": "324f27a3",
   "metadata": {},
   "outputs": [],
   "source": [
    "#df_results = df_results[['network_name_', 'loss_function_', 'include_T1_', 'augmentation_', 'mean dsc', 'median dsc', 'mean ppv', 'mean sensitivity']]\n",
    "#df.index.name = 'Exp. Id'"
   ]
  },
  {
   "cell_type": "code",
   "execution_count": null,
   "id": "c76ed7f3",
   "metadata": {},
   "outputs": [],
   "source": [
    "df"
   ]
  },
  {
   "cell_type": "markdown",
   "id": "00b504b6",
   "metadata": {},
   "source": [
    "## Add metrics\n",
    "\n",
    "For each selected experiement in the dataframe, run the model on the validation set and get individual results (DSC, TP, etc) and store in df_box. "
   ]
  },
  {
   "cell_type": "code",
   "execution_count": null,
   "id": "ce105b0f",
   "metadata": {},
   "outputs": [],
   "source": [
    "# df_box = compute_metrics_by_df(df, load_from_file=load_from_file)"
   ]
  },
  {
   "cell_type": "code",
   "execution_count": null,
   "id": "2e16180e",
   "metadata": {},
   "outputs": [],
   "source": [
    "df =append_mean_median(df, df_box)"
   ]
  },
  {
   "cell_type": "code",
   "execution_count": null,
   "id": "a57d6adb",
   "metadata": {},
   "outputs": [],
   "source": [
    "df = df.sort_values(['mean dsc'], ascending=False)"
   ]
  },
  {
   "cell_type": "markdown",
   "id": "271e0478",
   "metadata": {},
   "source": [
    "# Print summary table"
   ]
  },
  {
   "cell_type": "code",
   "execution_count": null,
   "id": "17c74ab9",
   "metadata": {},
   "outputs": [],
   "source": [
    "df_results = df[['network_name', 'loss_function', 'include_T1', 'augmentation', 'mean dsc', 'median dsc', 'mean ppv', 'mean sensitivity']].sort_index(ascending=True)"
   ]
  },
  {
   "cell_type": "code",
   "execution_count": null,
   "id": "d18dbd4b",
   "metadata": {},
   "outputs": [],
   "source": [
    "df_results = map_columns(df_results)"
   ]
  },
  {
   "cell_type": "code",
   "execution_count": null,
   "id": "9e379621",
   "metadata": {},
   "outputs": [],
   "source": [
    "df_results"
   ]
  },
  {
   "cell_type": "markdown",
   "id": "16de912e",
   "metadata": {},
   "source": [
    "# Create images\n",
    "\n",
    "For each experiment in the dataframe, create the pngs for each image in the validation set"
   ]
  },
  {
   "cell_type": "markdown",
   "id": "c4e339b5",
   "metadata": {},
   "source": [
    "## Labeller compare"
   ]
  },
  {
   "cell_type": "code",
   "execution_count": null,
   "id": "9fe601d0",
   "metadata": {},
   "outputs": [],
   "source": [
    "if create_images:\n",
    "    create_baseline_images(patent_ids=order_of_patient_ids, crop_shape=(160, 160))"
   ]
  },
  {
   "cell_type": "code",
   "execution_count": null,
   "id": "697a15ae",
   "metadata": {},
   "outputs": [],
   "source": [
    "if create_images:\n",
    "    create_experiment_images(df=df, patent_ids=order_of_patient_ids, crop_shape=(160, 160))"
   ]
  },
  {
   "cell_type": "code",
   "execution_count": null,
   "id": "9c6bf544",
   "metadata": {},
   "outputs": [],
   "source": [
    "if create_images:\n",
    "    create_reference_images(patent_ids=order_of_patient_ids, crop_shape=(160,160))"
   ]
  },
  {
   "cell_type": "code",
   "execution_count": null,
   "id": "934e02f3",
   "metadata": {},
   "outputs": [],
   "source": [
    "short_caption = 'Comparison of two different labellers for selected MRIs from the PPMI dataset.'\n",
    "caption = 'Comparison of two different labellers for selected MRIs from the PPMI dataset. ' +\\\n",
    "          'Considering labeller one as the ground truth and labeller two as the prediction, the DSC ' + \\\n",
    "          'achieved by labeller two is shown along with the number of true positives/false negatives/false positives ' +\\\n",
    "          ' (in brackets).' + \\\n",
    "          'The top row shows examples with the best agreement between the two labellers. ' + \\\n",
    "          'The middle row shows examples with a medium level of agreement between the two labellers (near the median DSC). ' + \\\n",
    "          'The bottom row shows examples with the least agreement between the two labellers. '\n",
    "\n",
    "\n",
    "fname_stem = f'compare_labellers_baseline_9x9'\n",
    "create_3col_baseline_figure(patient_ids=order_of_patient_ids, fname_stem=fname_stem, caption=caption, short_caption=short_caption)"
   ]
  },
  {
   "cell_type": "code",
   "execution_count": null,
   "id": "c47c0f3b",
   "metadata": {},
   "outputs": [],
   "source": [
    "short_caption = 'Comparison of two different labellers for selected MRIs from the PPMI dataset.'\n",
    "\n",
    "caption = 'Comparison of two different labellers for selected MRIs from the PPMI dataset. ' +\\\n",
    "          'The first column shows the T2-weighted image that the labeller uses for segmentation. ' + \\\n",
    "          'The second column shows the corresponding coregistered T1-weighted image. ' + \\\n",
    "          'The third column shows the region of overlap (green) achieved by labeller two with respect to labeller one. ' + \\\n",
    "          'Considering labeller one as the ground truth and labeller two as the prediction, the overlap ' + \\\n",
    "          'can be treated as the true positives, while the region labelled only by labeller one (orange) can be considered ' +\\\n",
    "          'to be the false negatives and  the region labelled only by labeller two (red) can be considered the false positives.' \n",
    "#            + \\\n",
    "#           'The first row shows the example with the best agreement between the two labellers (highest DSC). ' + \\\n",
    "#           'The middle row shows the example with the median DSC. ' + \\\n",
    "#           'The bottom row shows the example with the least agreement between the two labellers (lowest DSC).'\n",
    "\n",
    "selected_ = [3115, 3570, 3551]\n",
    "fname_stem = f'compare_labellers_reference_9x9'\n",
    "create_3col_reference_figure(patient_ids=selected_, fname_stem=fname_stem, caption=caption, short_caption=short_caption)\n",
    "\n",
    "\n",
    "fname_stem = f'compare_labellers_reference_9x9_b'\n",
    "create_3col_reference_figure(patient_ids=[3390, 3374, 3571], fname_stem=fname_stem, caption=caption, short_caption=short_caption)\n"
   ]
  },
  {
   "cell_type": "markdown",
   "id": "0ff9d13f",
   "metadata": {},
   "source": [
    "## Create an image fore all (for selecting good results)"
   ]
  },
  {
   "cell_type": "markdown",
   "id": "a7aebd51",
   "metadata": {},
   "source": [
    "### Labeller baseline images"
   ]
  },
  {
   "cell_type": "code",
   "execution_count": null,
   "id": "5c200277",
   "metadata": {},
   "outputs": [],
   "source": [
    "idx = 0\n",
    "while True:\n",
    "    if (idx+9)>len(order_of_patient_ids):\n",
    "        ids_subset = order_of_patient_ids[-9:]\n",
    "    else:\n",
    "        ids_subset = order_of_patient_ids[idx:idx+9]\n",
    "        \n",
    "    caption = ' '.join([str(x) for x in ids_subset])    \n",
    "    fname_stem = f'compare_labellers_baseline_9x9_{str(idx)}'\n",
    "    idx+=9\n",
    "    \n",
    "    create_3col_baseline_figure(patient_ids=ids_subset, fname_stem=fname_stem, caption=caption)  \n",
    "\n",
    "    if idx > len(order_of_patient_ids):\n",
    "        break\n",
    "    "
   ]
  },
  {
   "cell_type": "markdown",
   "id": "dbf3f440",
   "metadata": {},
   "source": [
    "### Labeller reference images"
   ]
  },
  {
   "cell_type": "code",
   "execution_count": null,
   "id": "4d92c053",
   "metadata": {},
   "outputs": [],
   "source": [
    "idx = 0\n",
    "while True:\n",
    "    if (idx+3)>len(order_of_patient_ids):\n",
    "        break\n",
    "        \n",
    "    if (idx+3)>len(order_of_patient_ids):\n",
    "        ids_subset = order_of_patient_ids[-3:]\n",
    "    else:\n",
    "        ids_subset = order_of_patient_ids[idx:idx+3]\n",
    "        \n",
    "    caption = ' '.join([str(x) for x in ids_subset])    \n",
    "    fname_stem = f'compare_labellers_reference_9x9_{str(idx)}'\n",
    "    idx+=3\n",
    "    \n",
    "    create_3col_reference_figure(patient_ids=ids_subset, fname_stem=fname_stem, caption=caption)\n",
    "    \n",
    "    if idx > len(order_of_patient_ids):\n",
    "        break\n"
   ]
  },
  {
   "cell_type": "markdown",
   "id": "0015dcf6",
   "metadata": {},
   "source": [
    "# Create histogram for report"
   ]
  },
  {
   "cell_type": "markdown",
   "id": "55709e22",
   "metadata": {},
   "source": [
    "### Labeller histogram"
   ]
  },
  {
   "cell_type": "code",
   "execution_count": null,
   "id": "32403746",
   "metadata": {},
   "outputs": [],
   "source": [
    "df_labellers = get_compare_labellers_df(verbose=True)"
   ]
  },
  {
   "cell_type": "code",
   "execution_count": null,
   "id": "a2adf5f6",
   "metadata": {},
   "outputs": [],
   "source": [
    "# df_labellers = get_compare_labellers_df_v3(verbose=True)\n",
    "\n",
    "caption = 'Density plot of DSC between two labellers over 155 MRIs'\n",
    "\n",
    "\n",
    "plot_from_df(df=df_labellers, \\\n",
    "             fname_stem='label_uncertainty_histplot_dsc',\n",
    "             caption=caption,\n",
    "             set_order=False,\n",
    "             x_column='DSC', \\\n",
    "             x_label='DSC', y_label='Density', \\\n",
    "             sns_plot='sns.histplot', show_annotations=False)\n",
    "\n"
   ]
  },
  {
   "cell_type": "code",
   "execution_count": null,
   "id": "7244955b",
   "metadata": {},
   "outputs": [],
   "source": [
    "df_labellers['DSC'].mean()"
   ]
  },
  {
   "cell_type": "code",
   "execution_count": null,
   "id": "e92dec99",
   "metadata": {},
   "outputs": [],
   "source": [
    "df_labellers['PPV'].mean()"
   ]
  },
  {
   "cell_type": "code",
   "execution_count": null,
   "id": "a33f447a",
   "metadata": {},
   "outputs": [],
   "source": [
    "df_labellers['Sensitivity'].median()"
   ]
  },
  {
   "cell_type": "code",
   "execution_count": null,
   "id": "ba90d5f6",
   "metadata": {},
   "outputs": [],
   "source": [
    "caption = 'Density plot of DSC, PPV and sensitivity between two labellers over 155 MRIs'\n",
    "\n",
    "\n",
    "plot_from_kde_df(df=df_labellers, \\\n",
    "                 fname_stem='label_uncertainty_histplot_all',\n",
    "                 caption=caption)\n",
    "\n"
   ]
  },
  {
   "cell_type": "code",
   "execution_count": null,
   "id": "2581a125",
   "metadata": {},
   "outputs": [],
   "source": [
    "# df_labellers = get_compare_labellers_df_v3(verbose=True)\n",
    "\n",
    "caption = 'Density plot of PPV between two labellers over 155 MRIs'\n",
    "\n",
    "\n",
    "plot_from_df(df=df_labellers, \\\n",
    "             fname_stem='label_uncertainty_histplot_ppv',\n",
    "             caption=caption,\n",
    "             set_order=False,\n",
    "             x_column='PPV', \\\n",
    "             x_label='PPV', y_label='Density', \\\n",
    "             sns_plot='sns.histplot', show_annotations=False)\n",
    "\n"
   ]
  },
  {
   "cell_type": "code",
   "execution_count": null,
   "id": "b761dc05",
   "metadata": {},
   "outputs": [],
   "source": [
    "# df_labellers = get_compare_labellers_df_v3(verbose=True)\n",
    "\n",
    "caption = 'Density plot of sensitivity between two labellers over 155 MRIs'\n",
    "\n",
    "\n",
    "plot_from_df(df=df_labellers, \\\n",
    "             fname_stem='label_uncertainty_histplot_sensitivity',\n",
    "             caption=caption,\n",
    "             set_order=False,\n",
    "             x_column='Sensitivity', \\\n",
    "             x_label='Sensitivity', y_label='Density', \\\n",
    "             sns_plot='sns.histplot', show_annotations=False)\n",
    "\n"
   ]
  },
  {
   "cell_type": "markdown",
   "id": "abb94071",
   "metadata": {},
   "source": [
    "# Get individual experiment results\n",
    "\n",
    "We have the following experiment results to collect\n",
    "\n",
    "* Loss functions\n",
    "* Networks\n",
    "* Augmentation\n",
    "* Pretrained\n",
    "* F-beta\n",
    "\n",
    "We can create a filter for each type to get a df sub dataframe of the correct experiments"
   ]
  },
  {
   "cell_type": "code",
   "execution_count": null,
   "id": "ae9c35ec",
   "metadata": {},
   "outputs": [],
   "source": [
    "def get_filtered_df(df):\n",
    "    conditions =  ( df['loss_function'] == 'DiceLoss'    ) & \\\n",
    "                  ( df['network_name'] == 'UNet'         ) & \\\n",
    "                  ( df['augmentation'] == False          ) & \\\n",
    "                  ( True )\n",
    "    return df[conditions]\n",
    "\n",
    "# For example\n",
    "get_filtered_df(df)"
   ]
  },
  {
   "cell_type": "markdown",
   "id": "66873bd2",
   "metadata": {},
   "source": [
    "# Loss functions experiment"
   ]
  },
  {
   "cell_type": "code",
   "execution_count": null,
   "id": "edf4d4f9",
   "metadata": {},
   "outputs": [],
   "source": [
    "def loss_filter(df, selected=[]):\n",
    "    conditions =  ( df['network_name'] == 'UNet'         ) & \\\n",
    "                  ( df['augmentation'] == False          ) & \\\n",
    "                  ( True )\n",
    "    df = df[conditions]\n",
    "    if selected:\n",
    "        df = df[df['loss_function'].isin(selected)]\n",
    "\n",
    "    return df\n"
   ]
  },
  {
   "cell_type": "code",
   "execution_count": null,
   "id": "21aac20a",
   "metadata": {},
   "outputs": [],
   "source": [
    "short_caption = 'Comparison of DSC, sensitivity and PPV ' + \\\n",
    "          'for models with various loss functions.'\n",
    "\n",
    "caption = 'Comparison of DSC, sensitivity and PPV ' + \\\n",
    "          'for models with various loss functions. ' +\\\n",
    "          'These experiments used the UNet architecture and no augmentation.'\n",
    "\n",
    "df_latex = loss_filter(df_results)[['loss_function_', 'include_T1_', 'mean dsc', 'median dsc', 'mean ppv', 'mean sensitivity']]\n",
    "\n",
    "write_latex_multi_row(df_latex, table_name='loss_functions_summary', caption=caption, short_caption=short_caption, \n",
    "                         first_column = 'loss_function_', second_column = 'include_T1_')\n"
   ]
  },
  {
   "cell_type": "code",
   "execution_count": null,
   "id": "737ef4f2",
   "metadata": {},
   "outputs": [],
   "source": [
    "df_box_loss = filter_df_box(df, df_box, loss_filter)"
   ]
  },
  {
   "cell_type": "code",
   "execution_count": null,
   "id": "201cea47",
   "metadata": {},
   "outputs": [],
   "source": [
    "df_box_loss"
   ]
  },
  {
   "cell_type": "code",
   "execution_count": null,
   "id": "8c320f06",
   "metadata": {},
   "outputs": [],
   "source": [
    "column_order = get_column_order(df_box_loss, x_column='loss_function', hue_column='include_T1')"
   ]
  },
  {
   "cell_type": "code",
   "execution_count": null,
   "id": "6d07270c",
   "metadata": {},
   "outputs": [],
   "source": [
    "column_order"
   ]
  },
  {
   "cell_type": "code",
   "execution_count": null,
   "id": "5b3de57c",
   "metadata": {},
   "outputs": [],
   "source": [
    "short_caption = 'Voilin plot comparison of DSCs obtained with various loss functions ' + \\\n",
    "          'with the T2 image only or both the T1 and T2 images.'\n",
    "\n",
    "caption = 'Voilin plot comparison of DSCs obtained with various loss functions ' + \\\n",
    "          'with the T2 image only or both the T1 and T2 images. ' + \\\n",
    "          'The dotted red line shows the mean baseline DSC of 0.81. ' +\\\n",
    "          'These experiments used the UNet architecture and no augmentation.'\n",
    "\n",
    "order = get_column_order(df_box_loss)\n",
    "\n",
    "plot_from_df(df=df_box_loss, \n",
    "             fname_stem='compare_loss_voilin',\n",
    "             caption=caption,\n",
    "             short_caption=short_caption,\n",
    "             x_column='loss_function_trim', hue_col='include_T1_', \n",
    "             x_label='Loss Function', sns_plot='sns.violinplot', axhline=0.81, \n",
    "             set_ylim=(0.5, 1))\n",
    "\n"
   ]
  },
  {
   "cell_type": "code",
   "execution_count": null,
   "id": "c3910683",
   "metadata": {},
   "outputs": [],
   "source": [
    "short_caption = 'Boxplot comparison of DSCs obtained with various loss functions ' + \\\n",
    "          'with the T2 image only or both the T1 and T2 images.'\n",
    "\n",
    "caption = 'Boxplot comparison of DSCs obtained with various loss functions ' + \\\n",
    "          'with the T2 image only or both the T1 and T2 images. ' + \\\n",
    "          'The dotted red line shows the median baseline DSC of 0.83. ' +\\\n",
    "          'These experiments used the UNet architecture and no augmentation.'\n",
    "\n",
    "#fig_fname=fname_boxplot_T2,\n",
    "plot_from_df(df=df_box_loss, \n",
    "             fname_stem='compare_loss_boxplot',\n",
    "             caption=caption,             \n",
    "             short_caption=short_caption,\n",
    "             x_column='loss_function_trim', hue_col='include_T1_', \n",
    "             x_label='Loss Function', \n",
    "             sns_plot='sns.boxplot', axhline=0.83, \n",
    "             set_ylim=(0.5, 1))\n"
   ]
  },
  {
   "cell_type": "code",
   "execution_count": null,
   "id": "89e88293",
   "metadata": {},
   "outputs": [],
   "source": [
    "loss_filter(df)"
   ]
  },
  {
   "cell_type": "code",
   "execution_count": null,
   "id": "913d333a",
   "metadata": {},
   "outputs": [],
   "source": [
    "order = get_column_order(df_box_loss,x_column='loss_function', hue_column='include_T1')\n",
    "df1 = loss_filter(df, selected=['TverskyLoss', 'TverskyFocalLoss', 'DiceLoss'])\n",
    "\n",
    "for pid in order_of_patient_ids[:34]:\n",
    "\n",
    "    short_caption = f'Comparison of models using different loss functions on subject number {pid}.'\n",
    "\n",
    "    caption = f'Comparison of models using different loss functions on subject number {pid}. ' + \\\n",
    "              'The DSC achieved by each model is shown along with the number of ' + \\\n",
    "              'true positives/false negatives/false positives (in brackets). The baseline (top-right image) is the ' + \\\n",
    "              'performance of labeller two, assuming labeller one was the ground truth. Segmentations in the ' + \\\n",
    "              'left column use only the T2-weighted images. Segmentations in the centre column used both ' + \\\n",
    "              'T1 and T2-weighted images. ' +\\\n",
    "              'These experiments used the UNet and no augmentation.'    \n",
    "    \n",
    "    create_3col_figure(df1, patient_id=pid, fname_stem='compare_loss', caption=caption, short_caption=short_caption, \\\n",
    "                       hue_column = 'include_T1_', sort_column='loss_function_', \\\n",
    "                       verbose=True)"
   ]
  },
  {
   "cell_type": "code",
   "execution_count": null,
   "id": "b3651ecd",
   "metadata": {},
   "outputs": [],
   "source": [
    "order = get_column_order(df_box_loss,x_column='loss_function', hue_column='include_T1')\n",
    "df1 = loss_filter(df, selected=order[3:])\n",
    "\n",
    "for pid in order_of_patient_ids[:34]:\n",
    "\n",
    "    short_caption = f'Comparison of models using different loss functions on subject number {pid}.'\n",
    "    \n",
    "    caption = f'Comparison of models using different loss functions on subject number {pid}. ' + \\\n",
    "              'The DSC achieved by each model is shown along with the number of ' + \\\n",
    "              'true positives/false negatives/false positives (in brackets). The baseline (top-right image) is the ' + \\\n",
    "              'performance of labeller two, assuming labeller one was the ground truth. Segmentations in the ' + \\\n",
    "              'left column use only the T2-weighted images. Segmentations in the centre column used both ' + \\\n",
    "              'T1 and T2-weighted images. ' +\\\n",
    "              'These experiments used the UNet and no augmentation.'    \n",
    "    \n",
    "    create_3col_figure(df1, patient_id=pid, fname_stem='compare_loss2', caption=caption, short_caption=short_caption, \\\n",
    "                       hue_column = 'include_T1_', sort_column='loss_function_', \\\n",
    "                       verbose=True)"
   ]
  },
  {
   "cell_type": "code",
   "execution_count": null,
   "id": "205cadb1",
   "metadata": {},
   "outputs": [],
   "source": [
    "df_box_loss.groupby(['loss_function', 'include_T1'], as_index=False).mean()"
   ]
  },
  {
   "cell_type": "code",
   "execution_count": null,
   "id": "4dbd88b4",
   "metadata": {},
   "outputs": [],
   "source": [
    "df_box.groupby(['loss_function', 'include_T1'], as_index=False).median()"
   ]
  },
  {
   "cell_type": "markdown",
   "id": "470c1c29",
   "metadata": {},
   "source": [
    "## Networks experiment"
   ]
  },
  {
   "cell_type": "code",
   "execution_count": null,
   "id": "6edf33d2",
   "metadata": {},
   "outputs": [],
   "source": [
    "def network_filter(df, selected=[]):\n",
    "    conditions =  ( df['loss_function'] == 'DiceLoss'         ) & \\\n",
    "                  ( df['augmentation'] == False          ) & \\\n",
    "                  ( True )\n",
    "    df = df[conditions]\n",
    "    if selected:\n",
    "        df = df[df['loss_function'].isin(selected)]\n",
    "\n",
    "    return df"
   ]
  },
  {
   "cell_type": "code",
   "execution_count": null,
   "id": "05f37ad4",
   "metadata": {},
   "outputs": [],
   "source": [
    "from utils.report import *"
   ]
  },
  {
   "cell_type": "code",
   "execution_count": null,
   "id": "da3bc492",
   "metadata": {},
   "outputs": [],
   "source": [
    "df_box_network= filter_df_box(df, df_box, network_filter)"
   ]
  },
  {
   "cell_type": "code",
   "execution_count": null,
   "id": "65e0839d",
   "metadata": {},
   "outputs": [],
   "source": [
    "short_caption = 'Comparison of DSC, sensitivity and PPV ' + \\\n",
    "          'for models with various network architectures.'\n",
    "\n",
    "caption = 'Comparison of DSC, sensitivity and PPV ' + \\\n",
    "          'for models with various network architectures. ' +\\\n",
    "          'These experiments used the Dice loss function and no augmentation.'\n",
    "\n",
    "df_latex = network_filter(df_results)[['network_name_', 'include_T1_', 'mean dsc', 'median dsc', 'mean ppv', 'mean sensitivity']]\n",
    "\n",
    "write_latex_multi_row(df_latex, table_name='networks_summary', caption=caption, short_caption=short_caption, \n",
    "                         first_column = 'network_name_', second_column = 'include_T1_')\n"
   ]
  },
  {
   "cell_type": "code",
   "execution_count": null,
   "id": "5b0fdaf9",
   "metadata": {},
   "outputs": [],
   "source": [
    "column_order = get_column_order(df_box_network, x_column='network_name', hue_column='include_T1')"
   ]
  },
  {
   "cell_type": "code",
   "execution_count": null,
   "id": "aaea5830",
   "metadata": {},
   "outputs": [],
   "source": [
    "column_order"
   ]
  },
  {
   "cell_type": "code",
   "execution_count": null,
   "id": "7813cd2a",
   "metadata": {},
   "outputs": [],
   "source": [
    "caption = 'Voilin plot comparison of DSCs obtained with various network architectures ' +\\\n",
    "          'with the T2 image only or both the T1 and T2 images. ' + \\\n",
    "          'The dotted red line shows the mean baseline DSC of 0.81. ' +\\\n",
    "          'These experiments used the Dice loss and no augmentation.'\n",
    "\n",
    "\n",
    "#fig_fname=fname_boxplot_T2,\n",
    "plot_from_df(df=df_box_network, \\\n",
    "             fname_stem='compare_networks_voilin',\n",
    "             caption=caption,\n",
    "             x_column='network_name_', hue_col='include_T1_', \\\n",
    "             x_label='Network', sns_plot='sns.violinplot', axhline=0.83,\n",
    "             set_ylim=(0.5, 1))\n",
    "\n"
   ]
  },
  {
   "cell_type": "code",
   "execution_count": null,
   "id": "504cacb7",
   "metadata": {},
   "outputs": [],
   "source": [
    "short_caption = 'Boxplot comparison of DSCs obtained with various network architectures ' + \\\n",
    "          'with the T2 image only or both the T1 and T2 images.'\n",
    "\n",
    "caption = 'Boxplot comparison of DSCs obtained with various network architectures ' + \\\n",
    "          'with the T2 image only or both the T1 and T2 images. ' + \\\n",
    "          'The dotted red line shows the median baseline DSC of 0.83. ' +\\\n",
    "          'These experiments used the Dice loss and no augmentation.'\n",
    "\n",
    "\n",
    "#fig_fname=fname_boxplot_T2,\n",
    "plot_from_df(df=df_box_network, \\\n",
    "             fname_stem='compare_networks_boxplot',\n",
    "             caption=caption, short_caption=short_caption,             \n",
    "             x_column='network_name_', hue_col='include_T1_', \\\n",
    "             x_label='Network', sns_plot='sns.boxplot', axhline=0.83,\n",
    "             set_ylim=(0.5, 1))\n"
   ]
  },
  {
   "cell_type": "code",
   "execution_count": null,
   "id": "66fffc29",
   "metadata": {},
   "outputs": [],
   "source": [
    "df1 = network_filter(df, selected=['UNet_2Plus', 'UNet', 'UNet_3Plus'])\n",
    "\n",
    "for pid in order_of_patient_ids[:34]:\n",
    "    \n",
    "    \n",
    "    short_caption = f'Comparison of models using different network architectures on subject number {pid}.'\n",
    "    \n",
    "    caption = f'Comparison of models using different network architectures on subject number {pid}. ' + \\\n",
    "              'The DSC achieved by each model is shown along with the number of ' + \\\n",
    "              'true positives/false negatives/false positives (in brackets). The baseline (top-right image) is the ' + \\\n",
    "              'performance of labeller two, assuming labeller one was the ground truth. Segmentations in the ' + \\\n",
    "              'left column use only the T2-weighted images. Segmentations in the centre column used both ' + \\\n",
    "              'T1 and T2-weighted images. ' +\\\n",
    "              'These experiments used the Dice loss and no augmentation.'    \n",
    "    \n",
    "    create_3col_figure(df1, patient_id=pid, fname_stem='compare_networks', caption=caption, short_caption=short_caption, \\\n",
    "                       hue_column = 'include_T1_', sort_column = 'network_name_', \\\n",
    "                       verbose=True)\n"
   ]
  },
  {
   "cell_type": "code",
   "execution_count": null,
   "id": "342c9813",
   "metadata": {},
   "outputs": [],
   "source": [
    "df_box_network.groupby(['network_name', 'include_T1'], as_index=False).mean()"
   ]
  },
  {
   "cell_type": "code",
   "execution_count": null,
   "id": "e20b49f2",
   "metadata": {},
   "outputs": [],
   "source": [
    "df_box_network.groupby(['network_name', 'include_T1'], as_index=False).median()"
   ]
  },
  {
   "cell_type": "markdown",
   "id": "ff35d236",
   "metadata": {},
   "source": [
    "# Print summary table"
   ]
  },
  {
   "cell_type": "code",
   "execution_count": null,
   "id": "da7963be",
   "metadata": {},
   "outputs": [],
   "source": [
    "#df_results.index.name = 'Exp. Id'\n",
    "df_latex = df_results[['network_name_', 'loss_function_', 'include_T1_', 'augmentation_']]\n"
   ]
  },
  {
   "cell_type": "code",
   "execution_count": null,
   "id": "8cb7c1ec",
   "metadata": {},
   "outputs": [],
   "source": [
    "short_caption = 'Complete set of experiments configurations presented in this work.'\n",
    "caption = 'Complete set of experiments configurations presented in this work. The base experiment setting uses the standard UNet, ' + \\\n",
    "          'the Dice loss function and no augmentation. ' #+ \\\n",
    "#           'Each experiment is given a unique experiment id (Exp. Id) ' + \\\n",
    "#           'which we refer to throughout.'\n",
    "\n",
    "write_latex_table2D(df_latex, table_name='table_of_experiments', caption=caption, short_caption=short_caption, index=True)"
   ]
  },
  {
   "cell_type": "code",
   "execution_count": null,
   "id": "2733d397",
   "metadata": {},
   "outputs": [],
   "source": [
    "df_latex"
   ]
  },
  {
   "cell_type": "markdown",
   "id": "ea6bd26e",
   "metadata": {},
   "source": [
    "# In depth treatment of best model F-Beta"
   ]
  },
  {
   "cell_type": "code",
   "execution_count": null,
   "id": "534f8f0a",
   "metadata": {
    "scrolled": false
   },
   "outputs": [],
   "source": [
    "plot_density_plot_by_df_idx(df, df_box, df_idx=6, fname_stem='density_plots_fbeta', delta=0.05)"
   ]
  },
  {
   "cell_type": "markdown",
   "id": "7a8fdea2",
   "metadata": {},
   "source": [
    "# Create 9x9 plots for appendix (by model idx)"
   ]
  },
  {
   "cell_type": "code",
   "execution_count": null,
   "id": "cefcb8d2",
   "metadata": {},
   "outputs": [],
   "source": [
    "model_name_ = model_idx_to_name(df, 6)\n",
    "\n",
    "short_caption = f'Predictions made by the standard UNet model on T2-weighted images (Dice loss, no augmentation).'\n",
    "\n",
    "caption = f'Predictions made by the standard UNet model on T2-weighted images (Dice loss, no augmentation). ' + \\\n",
    "          'The DSC achieved by each model is shown along with the number of ' + \\\n",
    "          'true positives/false negatives/false positives (in brackets).'\n",
    "\n",
    "\n",
    "best_order_of_patient_ids = get_pid_ordered_by_dsc(model_name_)[::-1]\n",
    "idx = 0\n",
    "while True:\n",
    "    ids_subset = best_order_of_patient_ids[idx:idx+9]\n",
    "        \n",
    "    fname_stem = f'complete_model_results_fbeta_9x9_{str(idx)}'\n",
    "    idx+=9\n",
    "    \n",
    "    create_3col_figure_by_model(patient_ids=ids_subset, model_name=model_name_, fname_stem=fname_stem, caption=caption, short_caption=short_caption)  \n",
    "\n",
    "    if idx > len(best_order_of_patient_ids):\n",
    "        break\n",
    "    "
   ]
  },
  {
   "cell_type": "code",
   "execution_count": null,
   "id": "0a23db72",
   "metadata": {},
   "outputs": [],
   "source": []
  }
 ],
 "metadata": {
  "kernelspec": {
   "display_name": "Python 3",
   "language": "python",
   "name": "python3"
  },
  "language_info": {
   "codemirror_mode": {
    "name": "ipython",
    "version": 3
   },
   "file_extension": ".py",
   "mimetype": "text/x-python",
   "name": "python",
   "nbconvert_exporter": "python",
   "pygments_lexer": "ipython3",
   "version": "3.8.10"
  }
 },
 "nbformat": 4,
 "nbformat_minor": 5
}
